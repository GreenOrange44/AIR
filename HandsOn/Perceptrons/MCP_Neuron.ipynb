{
  "nbformat": 4,
  "nbformat_minor": 0,
  "metadata": {
    "colab": {
      "provenance": [],
      "toc_visible": true,
      "authorship_tag": "ABX9TyN+bNZVVkILJ+AL/EkaCA1Y",
      "include_colab_link": true
    },
    "kernelspec": {
      "name": "python3",
      "display_name": "Python 3"
    },
    "language_info": {
      "name": "python"
    }
  },
  "cells": [
    {
      "cell_type": "markdown",
      "metadata": {
        "id": "view-in-github",
        "colab_type": "text"
      },
      "source": [
        "<a href=\"https://colab.research.google.com/github/GreenOrange44/AIR/blob/main/HandsOn/Perceptrons/MCP_Neuron.ipynb\" target=\"_parent\"><img src=\"https://colab.research.google.com/assets/colab-badge.svg\" alt=\"Open In Colab\"/></a>"
      ]
    },
    {
      "cell_type": "code",
      "execution_count": null,
      "metadata": {
        "colab": {
          "base_uri": "https://localhost:8080/"
        },
        "id": "MIp55FiGiN7X",
        "outputId": "be4b6854-d08b-4a5a-b868-1f4b06eda4f5"
      },
      "outputs": [
        {
          "output_type": "stream",
          "name": "stdout",
          "text": [
            "AND(0, 0) = 0\n",
            "AND(0, 1) = 0\n",
            "AND(1, 0) = 0\n",
            "AND(1, 1) = 1\n"
          ]
        }
      ],
      "source": [
        "# NEURONS FOR 2 INPUT AND GATE\n",
        "\n",
        "\n",
        "class MCPNeuron:\n",
        "    def __init__(self, weights, threshold):\n",
        "        self.weights = weights\n",
        "        self.threshold = threshold\n",
        "\n",
        "\n",
        "    def activate(self, inputs):\n",
        "        # calculate the dot product of the inputs and weights\n",
        "        sum_inputs = sum(x * w for x, w in zip(inputs, self.weights))\n",
        "\n",
        "\n",
        "        # apply the threshold\n",
        "        if sum_inputs >= self.threshold:\n",
        "            return 1\n",
        "        else:\n",
        "            return 0\n",
        "\n",
        "\n",
        "\n",
        "\n",
        "# weights and threshold for AND gate\n",
        "weights = [1, 1]\n",
        "threshold = 2\n",
        "neuron = MCPNeuron(weights, threshold)\n",
        "\n",
        "\n",
        "# list of 2-input pairs for AND gate\n",
        "input_pairs = [(0, 0), (0, 1), (1, 0), (1, 1)]\n",
        "\n",
        "\n",
        "for inputs in input_pairs:\n",
        "    output = neuron.activate(inputs)\n",
        "    print(f\"AND({inputs[0]}, {inputs[1]}) = {output}\")\n",
        "\n",
        "\n",
        "\n"
      ]
    },
    {
      "cell_type": "code",
      "source": [
        "# NEURONS FOR 2 INPUT OR GATE\n",
        "# Just make threshold as 1\n",
        "\n",
        "class MCPNeuron:\n",
        "    def __init__(self, weights, threshold):\n",
        "        self.weights = weights\n",
        "        self.threshold = threshold\n",
        "\n",
        "\n",
        "    def activate(self, inputs):\n",
        "        # calculate the dot product of the inputs and weights\n",
        "        sum_inputs = sum(x * w for x, w in zip(inputs, self.weights))\n",
        "\n",
        "\n",
        "        # apply the threshold\n",
        "        if sum_inputs >= self.threshold:\n",
        "            return 1\n",
        "        else:\n",
        "            return 0\n",
        "\n",
        "\n",
        "\n",
        "\n",
        "# weights and threshold for AND gate\n",
        "weights = [1, 1]\n",
        "threshold = 1\n",
        "neuron = MCPNeuron(weights, threshold)\n",
        "\n",
        "\n",
        "# list of 2-input pairs for AND gate\n",
        "input_pairs = [(0, 0), (0, 1), (1, 0), (1, 1)]\n",
        "\n",
        "\n",
        "for inputs in input_pairs:\n",
        "    output = neuron.activate(inputs)\n",
        "    print(f\"AND({inputs[0]}, {inputs[1]}) = {output}\")\n",
        "\n",
        "\n",
        "\n"
      ],
      "metadata": {
        "colab": {
          "base_uri": "https://localhost:8080/"
        },
        "id": "aTFn03S1ifFq",
        "outputId": "56783e45-9b70-483f-a866-6a362c2e73ed"
      },
      "execution_count": null,
      "outputs": [
        {
          "output_type": "stream",
          "name": "stdout",
          "text": [
            "AND(0, 0) = 0\n",
            "AND(0, 1) = 1\n",
            "AND(1, 0) = 1\n",
            "AND(1, 1) = 1\n"
          ]
        }
      ]
    },
    {
      "cell_type": "code",
      "source": [
        "# NEURONS FOR 3 INPUT AND GATE\n",
        "\n",
        "class MCPNeuron:\n",
        "    def __init__(self, weights, threshold):\n",
        "        self.weights = weights\n",
        "        self.threshold = threshold\n",
        "\n",
        "\n",
        "    def activate(self, inputs):\n",
        "        # calculate the dot product of the inputs and weights\n",
        "        sum_inputs = sum(x * w for x, w in zip(inputs, self.weights))\n",
        "\n",
        "\n",
        "        # apply the threshold\n",
        "        if sum_inputs >= self.threshold:\n",
        "            return 1\n",
        "        else:\n",
        "            return 0\n",
        "\n",
        "\n",
        "\n",
        "\n",
        "# weights and threshold for AND gate\n",
        "weights = [1, 1, 1]\n",
        "threshold = 3\n",
        "neuron = MCPNeuron(weights, threshold)\n",
        "\n",
        "\n",
        "# list of 3-input pairs for AND gate\n",
        "input_pairs = [(0, 0, 0), (0, 0, 1), (0, 1, 0), (0, 1, 1), (1, 0, 0), (1, 0, 1), (1, 1, 0), (1, 1, 1)]\n",
        "\n",
        "\n",
        "for inputs in input_pairs:\n",
        "    output = neuron.activate(inputs)\n",
        "    print(f\"AND({inputs[0]}, {inputs[1]}, {inputs[2]}) = {output}\")\n",
        "\n"
      ],
      "metadata": {
        "colab": {
          "base_uri": "https://localhost:8080/"
        },
        "id": "3828qW8Qi5P1",
        "outputId": "cc962866-e325-46c8-9c52-b5bcd578f5d2"
      },
      "execution_count": null,
      "outputs": [
        {
          "output_type": "stream",
          "name": "stdout",
          "text": [
            "AND(0, 0, 0) = 0\n",
            "AND(0, 0, 1) = 0\n",
            "AND(0, 1, 0) = 0\n",
            "AND(0, 1, 1) = 0\n",
            "AND(1, 0, 0) = 0\n",
            "AND(1, 0, 1) = 0\n",
            "AND(1, 1, 0) = 0\n",
            "AND(1, 1, 1) = 1\n"
          ]
        }
      ]
    }
  ]
}