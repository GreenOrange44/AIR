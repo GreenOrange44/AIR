{
  "nbformat": 4,
  "nbformat_minor": 0,
  "metadata": {
    "colab": {
      "provenance": [],
      "authorship_tag": "ABX9TyOsKJr2C8WNuPBiR9t0xgXU",
      "include_colab_link": true
    },
    "kernelspec": {
      "name": "python3",
      "display_name": "Python 3"
    },
    "language_info": {
      "name": "python"
    }
  },
  "cells": [
    {
      "cell_type": "markdown",
      "metadata": {
        "id": "view-in-github",
        "colab_type": "text"
      },
      "source": [
        "<a href=\"https://colab.research.google.com/github/GreenOrange44/AIR/blob/main/HandsOn/Perceptrons/MultilayerPerceptron.ipynb\" target=\"_parent\"><img src=\"https://colab.research.google.com/assets/colab-badge.svg\" alt=\"Open In Colab\"/></a>"
      ]
    },
    {
      "cell_type": "code",
      "execution_count": null,
      "metadata": {
        "id": "SDKpHx3TSd9_",
        "colab": {
          "base_uri": "https://localhost:8080/"
        },
        "outputId": "b28ecf53-3c3a-4054-d56e-769036f75cac"
      },
      "outputs": [
        {
          "output_type": "stream",
          "name": "stdout",
          "text": [
            "Epoch 1/10\n",
            "14/14 [==============================] - 1s 2ms/step - loss: 0.5700 - accuracy: 0.9286\n",
            "Epoch 2/10\n",
            "14/14 [==============================] - 0s 2ms/step - loss: 0.4813 - accuracy: 1.0000\n",
            "Epoch 3/10\n",
            "14/14 [==============================] - 0s 2ms/step - loss: 0.4266 - accuracy: 1.0000\n",
            "Epoch 4/10\n",
            "14/14 [==============================] - 0s 2ms/step - loss: 0.3764 - accuracy: 1.0000\n",
            "Epoch 5/10\n",
            "14/14 [==============================] - 0s 2ms/step - loss: 0.3376 - accuracy: 1.0000\n",
            "Epoch 6/10\n",
            "14/14 [==============================] - 0s 1ms/step - loss: 0.2978 - accuracy: 1.0000\n",
            "Epoch 7/10\n",
            "14/14 [==============================] - 0s 2ms/step - loss: 0.2594 - accuracy: 1.0000\n",
            "Epoch 8/10\n",
            "14/14 [==============================] - 0s 2ms/step - loss: 0.2253 - accuracy: 1.0000\n",
            "Epoch 9/10\n",
            "14/14 [==============================] - 0s 2ms/step - loss: 0.1920 - accuracy: 1.0000\n",
            "Epoch 10/10\n",
            "14/14 [==============================] - 0s 2ms/step - loss: 0.1654 - accuracy: 1.0000\n",
            "1/1 [==============================] - 0s 86ms/step\n",
            "Predicted class: [[1.]]\n"
          ]
        }
      ],
      "source": [
        "import pandas as pd\n",
        "from keras.models import Sequential\n",
        "from keras.layers import Dense\n",
        "from keras.optimizers import RMSprop\n",
        "import numpy as np\n",
        "\n",
        "\n",
        "# Load the dataset\n",
        "file_path = 'MLP_DB.xlsx'\n",
        "df = pd.read_excel(file_path)\n",
        "\n",
        "\n",
        "# Assuming the dataset has columns 'feature1', 'feature2' for inputs and 'target' for output\n",
        "X = df[['X1', 'X2']].values\n",
        "y = df['Y'].values\n",
        "\n",
        "\n",
        "# Initialize the model\n",
        "model = Sequential()\n",
        "model.add(Dense(20, input_dim=2, activation='tanh')) # Hidden layer with 20 nodes\n",
        "model.add(Dense(20, activation='tanh')) # Another hidden layer\n",
        "model.add(Dense(1, activation='sigmoid')) # Output layer\n",
        "\n",
        "\n",
        "# Compile the model with a smaller learning rate and a different optimizer\n",
        "opt = RMSprop(learning_rate=0.001)\n",
        "model.compile(loss='binary_crossentropy', optimizer=opt, metrics=['accuracy'])\n",
        "\n",
        "\n",
        "# Train the model\n",
        "model.fit(X, y, epochs=10, batch_size=1)\n",
        "\n",
        "\n",
        "\n",
        "\n",
        "\n",
        "\n",
        "# Predict\n",
        "test_input = np.array([[12, 15]]) # Test with a new input\n",
        "prediction = model.predict(test_input)\n",
        "print('Predicted class:', np.round(prediction))\n",
        "\n",
        "#Well what i noticed is if i make any values in I1 below 5 then answer is always returned as 0 but if greater than or equal to 5 it gives 1 as output\n",
        "\n",
        "\n",
        "# Click on runtime\n",
        "\n",
        "#then click on change runtime time\n",
        "\n",
        "#then you have to select t4 GPU"
      ]
    }
  ]
}