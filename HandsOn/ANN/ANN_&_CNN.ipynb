{
  "nbformat": 4,
  "nbformat_minor": 0,
  "metadata": {
    "colab": {
      "provenance": [],
      "gpuType": "T4",
      "mount_file_id": "1CDt8eNzWtq6ZrNuulqE48o5viywSJ6nJ",
      "authorship_tag": "ABX9TyO2tB5xYnS4qURoF1tgcFEh",
      "include_colab_link": true
    },
    "kernelspec": {
      "name": "python3",
      "display_name": "Python 3"
    },
    "language_info": {
      "name": "python"
    },
    "accelerator": "GPU"
  },
  "cells": [
    {
      "cell_type": "markdown",
      "metadata": {
        "id": "view-in-github",
        "colab_type": "text"
      },
      "source": [
        "<a href=\"https://colab.research.google.com/github/GreenOrange44/AIR/blob/main/HandsOn/ANN/ANN_%26_CNN.ipynb\" target=\"_parent\"><img src=\"https://colab.research.google.com/assets/colab-badge.svg\" alt=\"Open In Colab\"/></a>"
      ]
    },
    {
      "cell_type": "markdown",
      "source": [
        "# ..\n",
        "FOR DEEP LEARNING YOU NEED TO USE GPU FOR THAT PERFORM THE FOLLOWING STEPS\n",
        "\n",
        "1 Click on runtime\n",
        "\n",
        "2 then click on change runtime time\n",
        "\n",
        "3 then you have to select t4 GPU in hardware selector, then save it\n",
        "\n",
        "4 Now you can access the GPU"
      ],
      "metadata": {
        "id": "06l8-ZNNcnQG"
      }
    },
    {
      "cell_type": "code",
      "execution_count": null,
      "metadata": {
        "colab": {
          "base_uri": "https://localhost:8080/"
        },
        "id": "qF1PhuhLY_4G",
        "outputId": "6ee1e449-a45a-404e-edd4-97f976b3c635"
      },
      "outputs": [
        {
          "output_type": "execute_result",
          "data": {
            "text/plain": [
              "(60000, 28, 28)"
            ]
          },
          "metadata": {},
          "execution_count": 3
        }
      ],
      "source": [
        "from tensorflow.keras.datasets import mnist\n",
        "(train_images, train_labels), (test_images, test_labels) = mnist.load_data()\n",
        "# loaded the 60,000 training and 10,000 testing data of 28*28 size images\n",
        "\n",
        "\n",
        "train_images.shape\n",
        "\n",
        "\n"
      ]
    },
    {
      "cell_type": "code",
      "source": [
        "len(train_labels)\n"
      ],
      "metadata": {
        "colab": {
          "base_uri": "https://localhost:8080/"
        },
        "id": "HJB4fF35djQQ",
        "outputId": "3878bb1f-cc94-461f-87c7-b3262145e26d"
      },
      "execution_count": null,
      "outputs": [
        {
          "output_type": "execute_result",
          "data": {
            "text/plain": [
              "60000"
            ]
          },
          "metadata": {},
          "execution_count": 4
        }
      ]
    },
    {
      "cell_type": "code",
      "source": [
        "train_labels\n",
        "\n"
      ],
      "metadata": {
        "colab": {
          "base_uri": "https://localhost:8080/"
        },
        "id": "IPU2eIObdldE",
        "outputId": "d726961f-9719-4d53-b3e8-b68993fa09a2"
      },
      "execution_count": null,
      "outputs": [
        {
          "output_type": "execute_result",
          "data": {
            "text/plain": [
              "array([5, 0, 4, ..., 5, 6, 8], dtype=uint8)"
            ]
          },
          "metadata": {},
          "execution_count": 5
        }
      ]
    },
    {
      "cell_type": "code",
      "source": [
        "test_images.shape\n"
      ],
      "metadata": {
        "colab": {
          "base_uri": "https://localhost:8080/"
        },
        "id": "brPqnznTdmql",
        "outputId": "b6ca9c32-604f-413f-90c1-7eb5fdc0e3c1"
      },
      "execution_count": null,
      "outputs": [
        {
          "output_type": "execute_result",
          "data": {
            "text/plain": [
              "(10000, 28, 28)"
            ]
          },
          "metadata": {},
          "execution_count": 6
        }
      ]
    },
    {
      "cell_type": "code",
      "source": [
        "len(test_labels)\n"
      ],
      "metadata": {
        "colab": {
          "base_uri": "https://localhost:8080/"
        },
        "id": "CzpYcPSddom5",
        "outputId": "82238d42-0b65-4877-8ead-3528ff14b565"
      },
      "execution_count": null,
      "outputs": [
        {
          "output_type": "execute_result",
          "data": {
            "text/plain": [
              "10000"
            ]
          },
          "metadata": {},
          "execution_count": 7
        }
      ]
    },
    {
      "cell_type": "code",
      "source": [
        "test_labels\n",
        "\n",
        "# 28*28 = 784"
      ],
      "metadata": {
        "colab": {
          "base_uri": "https://localhost:8080/"
        },
        "id": "mlb9CHnUdqUb",
        "outputId": "21b7a7e7-ba83-4eb7-bfdb-125129fd62ea"
      },
      "execution_count": null,
      "outputs": [
        {
          "output_type": "execute_result",
          "data": {
            "text/plain": [
              "array([7, 2, 1, ..., 4, 5, 6], dtype=uint8)"
            ]
          },
          "metadata": {},
          "execution_count": 8
        }
      ]
    },
    {
      "cell_type": "markdown",
      "source": [
        "#**ANN**"
      ],
      "metadata": {
        "id": "i3vvLeDBc5-i"
      }
    },
    {
      "cell_type": "code",
      "source": [
        "# Instantiating a artificial neural network\n",
        "\n",
        "\n",
        "from tensorflow import keras\n",
        "from tensorflow.keras import layers\n",
        "\n",
        "# an function(Sequential) that creates sequential neural network model\n",
        "model = keras.Sequential([\n",
        "    layers.Dense(512, activation=\"relu\"),\n",
        "    layers.Dense(10, activation=\"softmax\")\n",
        "])\n",
        "# creating a dense netowrk(neurons are connected to every neuron of previous layer)\n",
        "# As this is ANN no pooling or convolution is done, and dense network has best results here\n",
        "# the network is sequential (ASK)\n",
        "# As the output needs to be divided into 10 classes (0 to 9) we have to have last layer to contain 10 neurons\n",
        "\n",
        "\n",
        "model.compile(optimizer=\"rmsprop\",\n",
        "              loss=\"sparse_categorical_crossentropy\",\n",
        "              metrics=[\"accuracy\"])\n",
        "# it finds the best learning rate and other attributes for our neural network according to loss and metrics\n",
        "# as here classes are 10 (0 to 9 digits) we use the sparse_categorical_crossentropy category as loss but if the classes were 2 we should have used binary_crossentropy\n",
        "\n",
        "\n",
        "\n",
        "train_images = train_images.reshape((60000, 784)) # reshapes to array having 60000 rows and 784 columns (all 28*28 images are condensed into one column)\n",
        "train_images = train_images.astype(\"float32\") / 255\n",
        "# to convert the 0 - 255 range of values into 0 - 1 range (here the neural network gives the best results). This process is called normalization\n",
        "test_images = test_images.reshape((10000, 28 * 28))\n",
        "test_images = test_images.astype(\"float32\") / 255\n",
        "\n",
        "model.fit(train_images, train_labels, epochs=5, batch_size=128)\n",
        "# it actually trains the model with each sample coming 5 times to the neural network\n",
        "#batch size means it will show 128 images at once to the neural network\n",
        "\n",
        "test_loss, test_acc = model.evaluate(test_images, test_labels)\n",
        "print(f\"test_acc: {test_acc}\")\n",
        "# evaluating what are the results.\n"
      ],
      "metadata": {
        "colab": {
          "base_uri": "https://localhost:8080/"
        },
        "id": "DjQS7MH7eH4i",
        "outputId": "ab4a67e3-6d4a-4314-8e3e-557035dfd6f5"
      },
      "execution_count": null,
      "outputs": [
        {
          "output_type": "stream",
          "name": "stdout",
          "text": [
            "Epoch 1/5\n",
            "469/469 [==============================] - 3s 3ms/step - loss: 0.2689 - accuracy: 0.9232\n",
            "Epoch 2/5\n",
            "469/469 [==============================] - 2s 4ms/step - loss: 0.1076 - accuracy: 0.9685\n",
            "Epoch 3/5\n",
            "469/469 [==============================] - 1s 3ms/step - loss: 0.0710 - accuracy: 0.9784\n",
            "Epoch 4/5\n",
            "469/469 [==============================] - 1s 3ms/step - loss: 0.0516 - accuracy: 0.9845\n",
            "Epoch 5/5\n",
            "469/469 [==============================] - 1s 3ms/step - loss: 0.0386 - accuracy: 0.9889\n",
            "313/313 [==============================] - 1s 2ms/step - loss: 0.0665 - accuracy: 0.9791\n",
            "test_acc: 0.9790999889373779\n"
          ]
        }
      ]
    },
    {
      "cell_type": "markdown",
      "source": [
        "Certainly! The model.compile function in Keras is an important step in preparing the model for training. It specifies how the model will be configured for the training process. Here’s a breakdown of the components in the model.compile method:\n",
        "model.compile Parameters\n",
        "\n",
        "    optimizer=\"rmsprop\":\n",
        "        Optimizer: The optimizer is responsible for updating the model’s weights during training.\n",
        "        rmsprop is an adaptive learning rate optimization algorithm designed for training neural networks. It adjusts the learning rate for each parameter based on the average of recent magnitudes of the gradients for the weight. This helps in dealing with the vanishing gradient problem and allows for faster convergence.\n",
        "\n",
        "    loss=\"sparse_categorical_crossentropy\":\n",
        "        Loss Function: The loss function measures how well the model's predictions match the true labels. The goal of training is to minimize this loss function.\n",
        "        sparse_categorical_crossentropy is used when the labels are integers (sparse labels) rather than one-hot encoded vectors. It is appropriate for multi-class classification problems where each sample belongs to one out of many possible categories.\n",
        "\n",
        "    metrics=[\"accuracy\"]:\n",
        "        Metrics: Metrics are used to evaluate the performance of the model. They don’t affect the training process directly but are used to monitor the training and validation steps.\n",
        "        accuracy is a common metric for classification problems, which calculates the percentage of correctly predicted labels out of the total labels.\n",
        "\n",
        "Full Explanation\n",
        "\n",
        "Here is a more detailed explanation of what happens when you call model.compile with these parameters:\n",
        "\n",
        "python\n",
        "\n",
        "model.compile(optimizer=\"rmsprop\",\n",
        "              loss=\"sparse_categorical_crossentropy\",\n",
        "              metrics=[\"accuracy\"])\n",
        "\n",
        "    Optimizer (\"rmsprop\"):\n",
        "        Adjusts the learning rate dynamically based on the average of recent gradients.\n",
        "        Helps in speeding up the training process and achieving better performance.\n",
        "\n",
        "    Loss Function (\"sparse_categorical_crossentropy\"):\n",
        "        Computes the cross-entropy loss between the true labels and the predicted probabilities.\n",
        "        Suitable for classification problems with integer labels (e.g., 0, 1, 2, …, 9).\n",
        "\n",
        "    Metrics ([\"accuracy\"]):\n",
        "        Calculates how often predictions match the true labels.\n",
        "        Helps you monitor the model’s performance during training and evaluation.\n",
        "\n",
        "By specifying these parameters in model.compile, you are defining how the model should be trained, how it should calculate errors, and how it should evaluate its performance. This setup is essential before you can start training the model with the model.fit method."
      ],
      "metadata": {
        "id": "bfDq4yGSK793"
      }
    },
    {
      "cell_type": "markdown",
      "source": [
        "# **CNN**"
      ],
      "metadata": {
        "id": "aUU9eY87gB0t"
      }
    },
    {
      "cell_type": "code",
      "source": [
        "#Instantiating a small Convolutional neural network\n",
        "\n",
        "from tensorflow import keras\n",
        "from tensorflow.keras import layers\n",
        "\n",
        "# this is the input layer\n",
        "inputs = keras.Input(shape=(28, 28, 1))#(shape=(img height,width,channels))\n",
        "\n",
        "#these layers are the hidden layers which is conncected to the previous layer (denoted by the RHS())\n",
        "x = layers.Conv2D(filters=32, kernel_size=3, activation=\"relu\")(inputs)\n",
        "x = layers.MaxPooling2D(pool_size=2)(x)\n",
        "x = layers.Conv2D(filters=64, kernel_size=3, activation=\"relu\")(x)\n",
        "x = layers.MaxPooling2D(pool_size=2)(x)\n",
        "x = layers.Conv2D(filters=128, kernel_size=3, activation=\"relu\")(x)\n",
        "x = layers.Flatten()(x)\n",
        "#as you can see the previous layers are being connected to the forward layer\n",
        "\n",
        "#the output layer is Dense and conncected from x\n",
        "# As the output needs to be divided into 10 classes (0 to 9) we have to have last layer to contain 10 neurons\n",
        "outputs = layers.Dense(10, activation=\"softmax\")(x)\n",
        "\n",
        "\n",
        "\n",
        "\n",
        "model = keras.Model(inputs=inputs, outputs=outputs)\n",
        "#an function that creates model that has the input layer and the ouput layer as the parameter\n",
        "\n",
        "\n",
        "model.summary()\n",
        "\n",
        "3*3*128\n",
        "\n",
        "from tensorflow.keras.datasets import mnist\n",
        "\n",
        "(train_images, train_labels), (test_images, test_labels) = mnist.load_data()\n",
        "train_images = train_images.reshape((60000, 28, 28, 1))\n",
        "train_images = train_images.astype(\"float32\") / 255\n",
        "test_images = test_images.reshape((10000, 28, 28, 1))\n",
        "test_images = test_images.astype(\"float32\") / 255\n",
        "model.compile(optimizer=\"rmsprop\",\n",
        "    loss=\"sparse_categorical_crossentropy\",\n",
        "    metrics=[\"accuracy\"])\n",
        "model.fit(train_images, train_labels, epochs=5, batch_size=64)\n",
        "\n",
        "test_loss, test_acc = model.evaluate(test_images, test_labels)\n",
        "print(f\"Test accuracy: {test_acc:.3f}\")\n",
        "\n"
      ],
      "metadata": {
        "id": "S5T7X0JygFZi"
      },
      "execution_count": null,
      "outputs": []
    },
    {
      "cell_type": "code",
      "source": [],
      "metadata": {
        "id": "mIsEUNK8MQKX"
      },
      "execution_count": null,
      "outputs": []
    }
  ]
}