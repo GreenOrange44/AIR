{
  "nbformat": 4,
  "nbformat_minor": 0,
  "metadata": {
    "colab": {
      "provenance": [],
      "authorship_tag": "ABX9TyML0kjgfHjFhZRTbqab76mF",
      "include_colab_link": true
    },
    "kernelspec": {
      "name": "python3",
      "display_name": "Python 3"
    },
    "language_info": {
      "name": "python"
    }
  },
  "cells": [
    {
      "cell_type": "markdown",
      "metadata": {
        "id": "view-in-github",
        "colab_type": "text"
      },
      "source": [
        "<a href=\"https://colab.research.google.com/github/GreenOrange44/AIR/blob/main/First/0.ipynb\" target=\"_parent\"><img src=\"https://colab.research.google.com/assets/colab-badge.svg\" alt=\"Open In Colab\"/></a>"
      ]
    },
    {
      "cell_type": "code",
      "execution_count": null,
      "metadata": {
        "id": "BZ5yOol21r-l"
      },
      "outputs": [],
      "source": []
    },
    {
      "cell_type": "code",
      "source": [
        "import numpy as np\n",
        "a = np.array([10, 20, 30, 40])\n",
        "print(a.shape)\n",
        "print(a[0], a[1], a[2], a[3])"
      ],
      "metadata": {
        "colab": {
          "base_uri": "https://localhost:8080/"
        },
        "id": "LLJe6lql2HLK",
        "outputId": "16d3c655-971f-491a-d763-857c994ad720"
      },
      "execution_count": null,
      "outputs": [
        {
          "output_type": "stream",
          "name": "stdout",
          "text": [
            "(4,)\n",
            "10 20 30 40\n"
          ]
        }
      ]
    },
    {
      "cell_type": "code",
      "source": [
        "a[0] = 50\n",
        "print(a)"
      ],
      "metadata": {
        "colab": {
          "base_uri": "https://localhost:8080/"
        },
        "id": "wWH8mHog4CNC",
        "outputId": "140aeb74-2433-4590-c5c7-2c27e15cdb9a"
      },
      "execution_count": null,
      "outputs": [
        {
          "output_type": "stream",
          "name": "stdout",
          "text": [
            "[50 20 30 40]\n"
          ]
        }
      ]
    },
    {
      "cell_type": "code",
      "source": [
        "b = np.array([[10, 20, 30], [40, 50, 60]])\n",
        "print(b.shape)\n",
        "print(b[0][0], b[0][1], b[1][0])"
      ],
      "metadata": {
        "colab": {
          "base_uri": "https://localhost:8080/"
        },
        "id": "YjFVCMbC4BqI",
        "outputId": "5ef59117-74f9-400c-a1a0-0e72e7077948"
      },
      "execution_count": null,
      "outputs": [
        {
          "output_type": "stream",
          "name": "stdout",
          "text": [
            "(2, 3)\n",
            "10 20 40\n"
          ]
        }
      ]
    },
    {
      "cell_type": "code",
      "source": [
        "c = np.zeros((2,3))\n",
        "print(c)\n",
        "\n",
        "d = np.ones((1,5))\n",
        "print(d)"
      ],
      "metadata": {
        "colab": {
          "base_uri": "https://localhost:8080/"
        },
        "id": "oj96MoJL67Go",
        "outputId": "955a1a67-5f28-4abe-ddd7-d487d930d6d6"
      },
      "execution_count": null,
      "outputs": [
        {
          "output_type": "stream",
          "name": "stdout",
          "text": [
            "[[0. 0. 0.]\n",
            " [0. 0. 0.]]\n",
            "[[1. 1. 1. 1. 1.]]\n"
          ]
        }
      ]
    },
    {
      "cell_type": "markdown",
      "source": [
        "e = np.full((3,2), 7)\n",
        "print(e)"
      ],
      "metadata": {
        "id": "LNbGr6NV7jda"
      }
    },
    {
      "cell_type": "code",
      "source": [
        "f = np.eye(5)\n",
        "print(f)"
      ],
      "metadata": {
        "colab": {
          "base_uri": "https://localhost:8080/"
        },
        "id": "WRzEjro971HF",
        "outputId": "caaedebe-a5cd-46c1-b72b-c6d56e50e8c4"
      },
      "execution_count": null,
      "outputs": [
        {
          "output_type": "stream",
          "name": "stdout",
          "text": [
            "[[1. 0. 0. 0. 0.]\n",
            " [0. 1. 0. 0. 0.]\n",
            " [0. 0. 1. 0. 0.]\n",
            " [0. 0. 0. 1. 0.]\n",
            " [0. 0. 0. 0. 1.]]\n"
          ]
        }
      ]
    },
    {
      "cell_type": "code",
      "source": [
        "g = np.random.random((2,2))\n",
        "print(g)"
      ],
      "metadata": {
        "colab": {
          "base_uri": "https://localhost:8080/"
        },
        "id": "qOrgMnGw8RM1",
        "outputId": "28ef1667-9348-43e7-8a6e-baa38745d1be"
      },
      "execution_count": null,
      "outputs": [
        {
          "output_type": "stream",
          "name": "stdout",
          "text": [
            "[[0.99802103 0.03304188]\n",
            " [0.3818314  0.81748483]]\n"
          ]
        }
      ]
    },
    {
      "cell_type": "code",
      "source": [
        "import matplotlib.pyplot as plt\n",
        "\n",
        "uniform_data = np.random.random(1000000)\n",
        "plt.hist(uniform_data, bins = 20, density = True, alpha = 0.7)"
      ],
      "metadata": {
        "colab": {
          "base_uri": "https://localhost:8080/",
          "height": 621
        },
        "id": "5KyCpnlj8uO0",
        "outputId": "d12ef89c-d142-491a-86d5-9132cfaf6467"
      },
      "execution_count": null,
      "outputs": [
        {
          "output_type": "execute_result",
          "data": {
            "text/plain": [
              "(array([0.99920126, 0.99656126, 0.99926126, 0.99858126, 0.99830126,\n",
              "        0.99916126, 0.99706126, 1.00744127, 0.99632126, 0.99380126,\n",
              "        0.99796126, 0.99898126, 1.00462127, 0.99628126, 1.00470127,\n",
              "        1.00010127, 1.00326127, 1.00460127, 1.00372127, 1.00010127]),\n",
              " array([4.53912832e-07, 5.00003906e-02, 1.00000327e-01, 1.50000264e-01,\n",
              "        2.00000201e-01, 2.50000138e-01, 3.00000074e-01, 3.50000011e-01,\n",
              "        3.99999948e-01, 4.49999885e-01, 4.99999821e-01, 5.49999758e-01,\n",
              "        5.99999695e-01, 6.49999631e-01, 6.99999568e-01, 7.49999505e-01,\n",
              "        7.99999442e-01, 8.49999378e-01, 8.99999315e-01, 9.49999252e-01,\n",
              "        9.99999189e-01]),\n",
              " <BarContainer object of 20 artists>)"
            ]
          },
          "metadata": {},
          "execution_count": 20
        },
        {
          "output_type": "display_data",
          "data": {
            "text/plain": [
              "<Figure size 640x480 with 1 Axes>"
            ],
            "image/png": "[encoded data removed]"
          },
          "metadata": {}
        }
      ]
    },
    {
      "cell_type": "code",
      "source": [
        "a = np.random.randint(1, 10, (3, 3))\n",
        "print(a)"
      ],
      "metadata": {
        "colab": {
          "base_uri": "https://localhost:8080/"
        },
        "id": "VRQwWld-CbjY",
        "outputId": "5a7da4cb-9be9-448a-e41f-510fed6d5bd6"
      },
      "execution_count": null,
      "outputs": [
        {
          "output_type": "stream",
          "name": "stdout",
          "text": [
            "[[5 7 8]\n",
            " [3 8 8]\n",
            " [4 9 1]]\n"
          ]
        }
      ]
    },
    {
      "cell_type": "code",
      "source": [
        "b = np.random.randn(4)\n",
        "print(b)"
      ],
      "metadata": {
        "colab": {
          "base_uri": "https://localhost:8080/"
        },
        "id": "UFKPwGAFDApI",
        "outputId": "205db85f-9d59-4816-9721-6ec4c45942d4"
      },
      "execution_count": null,
      "outputs": [
        {
          "output_type": "stream",
          "name": "stdout",
          "text": [
            "[ 1.06831547  1.21702662 -0.57339096  1.18380516]\n"
          ]
        }
      ]
    },
    {
      "cell_type": "markdown",
      "source": [
        "uniform_data = np.random.randn(1000000)\n",
        "plt.hist(uniform_data, bins = 20, density = True, alpha = 0.7)"
      ],
      "metadata": {
        "id": "SxEmSYcqDZ-k"
      }
    },
    {
      "cell_type": "code",
      "source": [
        "import numpy as np\n",
        "\n",
        "\n",
        "# Create a 2D ndarray\n",
        "arr = np.array([[4, 6, 8], [14, 15, 16]])\n",
        "\n",
        "\n",
        "# Print numpy array attributes\n",
        "print(\"Data type:\", arr.dtype)\n",
        "print(\"Shape:\", arr.shape)\n",
        "print(\"Number of dimensions:\", arr.ndim)\n",
        "print(\"Size:\", arr.size) # number of elements\n",
        "print(\"Number of bytes:\", arr.nbytes)\n",
        "\n",
        "print(a[])\n",
        "\n",
        "\n",
        "\n"
      ],
      "metadata": {
        "colab": {
          "base_uri": "https://localhost:8080/"
        },
        "id": "o1Ek2UrhEGKy",
        "outputId": "41aa2140-950b-4b88-e78f-4a6b6cc0607c"
      },
      "execution_count": null,
      "outputs": [
        {
          "output_type": "stream",
          "name": "stdout",
          "text": [
            "Data type: int64\n",
            "Shape: (2, 3)\n",
            "Number of dimensions: 2\n",
            "Size: 6\n",
            "Number of bytes: 48\n"
          ]
        }
      ]
    },
    {
      "cell_type": "code",
      "source": [
        "import numpy as np\n",
        "\n",
        "\n",
        "# Create a 3D ndarray\n",
        "arr = np.array([[[1, 2, 3], [4, 5, 6]], [[7, 8, 9], [10, 11, 12]]])\n",
        "\n",
        "\n",
        "# Print ndarray attributes\n",
        "print(\"Data type:\", arr.dtype)\n",
        "print(\"Shape:\", arr.shape)\n",
        "print(\"Number of dimensions:\", arr.ndim)\n",
        "print(\"Size:\", arr.size)\n",
        "print(\"Number of bytes:\", arr.nbytes)\n",
        "print(arr[0][0][1])\n",
        "\n",
        "\n",
        "\n",
        "\n"
      ],
      "metadata": {
        "colab": {
          "base_uri": "https://localhost:8080/"
        },
        "id": "32UBXVvLGL4_",
        "outputId": "35cac3a8-d9c3-4d6f-d7a6-a5549aa04b96"
      },
      "execution_count": null,
      "outputs": [
        {
          "output_type": "stream",
          "name": "stdout",
          "text": [
            "Data type: int64\n",
            "Shape: (2, 2, 3)\n",
            "Number of dimensions: 3\n",
            "Size: 12\n",
            "Number of bytes: 96\n",
            "2\n"
          ]
        }
      ]
    },
    {
      "cell_type": "code",
      "source": [
        "x = np.array([11, 12])\n",
        "print(x.dtype)\n",
        "\n",
        "x = np.array([11.0, 12.0])\n",
        "print(x.dtype)\n",
        "\n",
        "x = np.array([11, 12], dtype = np.int32)\n",
        "print(x.dtype)"
      ],
      "metadata": {
        "colab": {
          "base_uri": "https://localhost:8080/"
        },
        "id": "YQIzfV6SGo8s",
        "outputId": "7c3c51cd-34c9-4565-ee15-dd2beb3d73a7"
      },
      "execution_count": null,
      "outputs": [
        {
          "output_type": "stream",
          "name": "stdout",
          "text": [
            "int64\n",
            "float64\n",
            "int32\n"
          ]
        }
      ]
    },
    {
      "cell_type": "code",
      "source": [
        "# Create a 2D array\n",
        "arr = np.array([[11, 12, 13], [14, 15, 16], [17, 18, 19]])\n",
        "\n",
        "\n",
        "\n",
        "\n",
        "# Accessing individual elements\n",
        "print(\"Array:\")\n",
        "print(arr)\n",
        "#print(\"Element at (0, 0):\", arr[0, 0])\n",
        "print(arr[:,1])\n",
        "\n",
        "\n",
        "\n"
      ],
      "metadata": {
        "colab": {
          "base_uri": "https://localhost:8080/"
        },
        "id": "9qsxb3RVI_M7",
        "outputId": "9173426e-016e-469e-d029-aa68b64ef5da"
      },
      "execution_count": null,
      "outputs": [
        {
          "output_type": "stream",
          "name": "stdout",
          "text": [
            "Array:\n",
            "[[11 12 13]\n",
            " [14 15 16]\n",
            " [17 18 19]]\n",
            "[12 15 18]\n"
          ]
        }
      ]
    },
    {
      "cell_type": "code",
      "source": [
        "mask = arr > 17\n",
        "print(mask)\n",
        "print(arr[mask])"
      ],
      "metadata": {
        "colab": {
          "base_uri": "https://localhost:8080/"
        },
        "id": "ncKIoN9XKYbe",
        "outputId": "b652c026-908d-482c-d8ba-ffc878d902ef"
      },
      "execution_count": null,
      "outputs": [
        {
          "output_type": "stream",
          "name": "stdout",
          "text": [
            "[[False False False]\n",
            " [False False False]\n",
            " [False  True  True]]\n",
            "[18 19]\n"
          ]
        }
      ]
    },
    {
      "cell_type": "code",
      "source": [
        "x = np.array([[1, 2], [3, 4]])\n",
        "y = np.array([[5, 6], [7, 8]])\n",
        "print(x + y)\n",
        "print(np.add(x, y))\n",
        "print(np.sqrt(x))\n",
        "\n",
        "print(np.dot(x, y))"
      ],
      "metadata": {
        "colab": {
          "base_uri": "https://localhost:8080/"
        },
        "id": "uOrgdR1QK4yC",
        "outputId": "60e0cf41-967b-4e3a-8432-b82994bda78e"
      },
      "execution_count": null,
      "outputs": [
        {
          "output_type": "stream",
          "name": "stdout",
          "text": [
            "[[ 6  8]\n",
            " [10 12]]\n",
            "[[ 6  8]\n",
            " [10 12]]\n",
            "[[1.         1.41421356]\n",
            " [1.73205081 2.        ]]\n",
            "[[19 22]\n",
            " [43 50]]\n"
          ]
        }
      ]
    },
    {
      "cell_type": "code",
      "source": [
        "\n",
        "t = x.T\n",
        "print(T)"
      ],
      "metadata": {
        "colab": {
          "base_uri": "https://localhost:8080/",
          "height": 179
        },
        "id": "OZwjUAZ9l8JU",
        "outputId": "bbab0b57-b0d7-4f29-dfe1-67a19921dc8c"
      },
      "execution_count": null,
      "outputs": [
        {
          "output_type": "error",
          "ename": "NameError",
          "evalue": "name 'T' is not defined",
          "traceback": [
            "\u001b[0;31m---------------------------------------------------------------------------\u001b[0m",
            "\u001b[0;31mNameError\u001b[0m                                 Traceback (most recent call last)",
            "\u001b[0;32m<ipython-input-38-e32e0ead5a39>\u001b[0m in \u001b[0;36m<cell line: 2>\u001b[0;34m()\u001b[0m\n\u001b[1;32m      1\u001b[0m \u001b[0mt\u001b[0m \u001b[0;34m=\u001b[0m \u001b[0mx\u001b[0m\u001b[0;34m.\u001b[0m\u001b[0mT\u001b[0m\u001b[0;34m\u001b[0m\u001b[0;34m\u001b[0m\u001b[0m\n\u001b[0;32m----> 2\u001b[0;31m \u001b[0mprint\u001b[0m\u001b[0;34m(\u001b[0m\u001b[0mT\u001b[0m\u001b[0;34m)\u001b[0m\u001b[0;34m\u001b[0m\u001b[0;34m\u001b[0m\u001b[0m\n\u001b[0m",
            "\u001b[0;31mNameError\u001b[0m: name 'T' is not defined"
          ]
        }
      ]
    },
    {
      "cell_type": "code",
      "source": [
        "#to flatten the data\n",
        "c = x.flatten()\n",
        "print(c)\n",
        "\n",
        "print(x)"
      ],
      "metadata": {
        "colab": {
          "base_uri": "https://localhost:8080/"
        },
        "id": "nkX-_tQ_m2cn",
        "outputId": "6f274c89-2ace-48be-850e-8ac62253b5e0"
      },
      "execution_count": null,
      "outputs": [
        {
          "output_type": "stream",
          "name": "stdout",
          "text": [
            "[1 2 3 4]\n",
            "[[1 2]\n",
            " [3 4]]\n"
          ]
        }
      ]
    },
    {
      "cell_type": "code",
      "source": [
        "d = x.ravel()\n",
        "print(d)"
      ],
      "metadata": {
        "colab": {
          "base_uri": "https://localhost:8080/"
        },
        "id": "N0gf9XxdncTd",
        "outputId": "5bb22766-6eed-4fee-91a1-c988d3b3acd4"
      },
      "execution_count": null,
      "outputs": [
        {
          "output_type": "stream",
          "name": "stdout",
          "text": [
            "[1 2 3 4]\n"
          ]
        }
      ]
    },
    {
      "cell_type": "code",
      "source": [
        "inv = np.linalg.inv(x)\n",
        "print(inv)"
      ],
      "metadata": {
        "colab": {
          "base_uri": "https://localhost:8080/"
        },
        "id": "S2yC-rLsniN-",
        "outputId": "b39f8744-f06f-4c60-9c50-f9616116dfc7"
      },
      "execution_count": null,
      "outputs": [
        {
          "output_type": "stream",
          "name": "stdout",
          "text": [
            "[[-2.   1. ]\n",
            " [ 1.5 -0.5]]\n"
          ]
        }
      ]
    },
    {
      "cell_type": "code",
      "source": [
        "A = np.array([[1, 1], [1, -1]])\n",
        "\n",
        "\n",
        "# Constant vector\n",
        "B = np.array([2, 0])\n",
        "\n",
        "\n",
        "# Solve the linear equations\n",
        "x = np.linalg.solve(A, B)\n",
        "\n",
        "\n",
        "# Print the solution\n",
        "print(\"Solution:\")\n",
        "print(x)\n",
        "\n",
        "\n",
        "\n"
      ],
      "metadata": {
        "colab": {
          "base_uri": "https://localhost:8080/"
        },
        "id": "62eXAqbSoAlU",
        "outputId": "17c98d7d-1ed1-43c9-aa35-b146b1f33687"
      },
      "execution_count": null,
      "outputs": [
        {
          "output_type": "stream",
          "name": "stdout",
          "text": [
            "Solution:\n",
            "[1. 1.]\n"
          ]
        }
      ]
    },
    {
      "cell_type": "code",
      "source": [
        "import matplotlib.pyplot as plt\n",
        "image = plt.imread('Image.png')\n",
        "image_array = np.array(image)\n",
        "arr=image_array\n",
        "# Print ndarray attributes\n",
        "print(\"Data type:\", arr.dtype)\n",
        "print(\"Shape:\", arr.shape)\n",
        "print(\"Number of dimensions:\", arr.ndim)\n",
        "\n",
        "\n",
        "\n"
      ],
      "metadata": {
        "colab": {
          "base_uri": "https://localhost:8080/"
        },
        "id": "gpZSVy2SpkGP",
        "outputId": "be64f9dc-70c9-483e-d3af-82589e8cddc1"
      },
      "execution_count": null,
      "outputs": [
        {
          "output_type": "stream",
          "name": "stdout",
          "text": [
            "Data type: float32\n",
            "Shape: (648, 1152, 4)\n",
            "Number of dimensions: 3\n"
          ]
        }
      ]
    },
    {
      "cell_type": "code",
      "source": [],
      "metadata": {
        "id": "IOg-DgSAtvxZ"
      },
      "execution_count": null,
      "outputs": []
    },
    {
      "cell_type": "code",
      "source": [
        "import matplotlib.pyplot as plt\n",
        "image2 = plt.imread('Image2.jpg')\n",
        "image_array = np.array(image)\n",
        "arr=image_array\n",
        "# Print ndarray attributes\n",
        "print(\"Data type:\", arr.dtype)\n",
        "print(\"Shape:\", arr.shape)\n",
        "print(\"Number of dimensions:\", arr.ndim)\n",
        "\n",
        "\n",
        "\n"
      ],
      "metadata": {
        "colab": {
          "base_uri": "https://localhost:8080/"
        },
        "id": "yNlgth2fqice",
        "outputId": "039330b6-3e2f-4767-8ec3-80e9823faf70"
      },
      "execution_count": null,
      "outputs": [
        {
          "output_type": "stream",
          "name": "stdout",
          "text": [
            "Data type: uint8\n",
            "Shape: (648, 1152, 3)\n",
            "Number of dimensions: 3\n"
          ]
        }
      ]
    },
    {
      "cell_type": "markdown",
      "source": [
        "\\plt.imshow(image_array, cmap='gray')\n",
        "plt.title('Original Image')\n",
        "plt.show()\n"
      ],
      "metadata": {
        "id": "KlvvcavDqoQD"
      }
    },
    {
      "cell_type": "code",
      "source": [
        "plt.imshow(image_array, cmap='gray')\n",
        "plt.title('Original Image')\n",
        "plt.show()\n"
      ],
      "metadata": {
        "colab": {
          "base_uri": "https://localhost:8080/",
          "height": 382
        },
        "id": "oiyKjPemq3n9",
        "outputId": "e7dfa1f0-4674-41b4-ec7f-cb93f14f8dd9"
      },
      "execution_count": null,
      "outputs": [
        {
          "output_type": "display_data",
          "data": {
            "text/plain": [
              "<Figure size 640x480 with 1 Axes>"
            ],
            "image/png": "[encoded data removed]"
          },
          "metadata": {}
        }
      ]
    },
    {
      "cell_type": "code",
      "source": [
        "print(np.max(image_array))"
      ],
      "metadata": {
        "colab": {
          "base_uri": "https://localhost:8080/"
        },
        "id": "XsOBEw_wq6oF",
        "outputId": "b003a38d-5078-4c72-a6a8-f8e6528ee600"
      },
      "execution_count": null,
      "outputs": [
        {
          "output_type": "stream",
          "name": "stdout",
          "text": [
            "255\n"
          ]
        }
      ]
    },
    {
      "cell_type": "code",
      "source": [
        "inverted_image = np.max(image_array) - image_array\n",
        "plt.imshow(inverted_image, cmap='gray')\n",
        "plt.title('Original Image')\n",
        "plt.show()"
      ],
      "metadata": {
        "colab": {
          "base_uri": "https://localhost:8080/",
          "height": 382
        },
        "id": "2laYGemzrJ59",
        "outputId": "9cd1f9a4-2bd9-4fbb-ee11-20529e80e635"
      },
      "execution_count": null,
      "outputs": [
        {
          "output_type": "display_data",
          "data": {
            "text/plain": [
              "<Figure size 640x480 with 1 Axes>"
            ],
            "image/png": "[encoded data removed]"
          },
          "metadata": {}
        }
      ]
    }
  ]
}