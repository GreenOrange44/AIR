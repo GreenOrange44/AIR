{
  "nbformat": 4,
  "nbformat_minor": 0,
  "metadata": {
    "colab": {
      "provenance": [],
      "authorship_tag": "ABX9TyOlN+N01ajNONv/JSJDf+e5",
      "include_colab_link": true
    },
    "kernelspec": {
      "name": "python3",
      "display_name": "Python 3"
    },
    "language_info": {
      "name": "python"
    }
  },
  "cells": [
    {
      "cell_type": "markdown",
      "metadata": {
        "id": "view-in-github",
        "colab_type": "text"
      },
      "source": [
        "<a href=\"https://colab.research.google.com/github/GreenOrange44/AIR/blob/main/HandsOn/2BanditProblem/2BanditProblem.ipynb\" target=\"_parent\"><img src=\"https://colab.research.google.com/assets/colab-badge.svg\" alt=\"Open In Colab\"/></a>"
      ]
    },
    {
      "cell_type": "code",
      "execution_count": null,
      "metadata": {
        "colab": {
          "base_uri": "https://localhost:8080/"
        },
        "id": "GWMdDxompIzp",
        "outputId": "d9f7c3d1-72c8-45bf-f31d-56ffef310397"
      },
      "outputs": [
        {
          "output_type": "stream",
          "name": "stdout",
          "text": [
            "Outcomes: [0 1 0 1 1 1 0 1 1 1 1 0 1 0 1 0 0 1 0 1 1 1 0 0 0 1 0 0 0 1 0 1 1 0 1 0 1\n",
            " 0 0 0 0 0 0 0 1 1 0 0 1 1 1 1 0 1 0 1 1 0 1 0 0 0 1 1 1 1 0 0 1 0 0 1 0 1\n",
            " 0 1 1 1 1 1 1 1 1 0 0 0 0 0 1 1 1 1 1 1 1 0 0 0 0 1 0 0 0 1 1 0 0 0 1 0 1\n",
            " 0 0 1 1 1 0 1 1 1 1 1 1 0 0 0 0 0 0 0 1 1 0 1 1 1 1 1 1 1 0 0 1 0 1 0 0 0\n",
            " 1 0 0 0 0 0 1 0 0 1 0 0 0 0 0 0 1 0 1 1 0 1 0 1 0 0 1 1 0 0 0 1 0 0 0 1 1\n",
            " 0 1 0 1 0 0 1 0 0 0 1 1 1 1 1 1 0 1 1 0 0 0 0 0 1 1 0 1 1 1 0 0 0 0 0 0 1\n",
            " 0 0 1 0 1 1 1 1 1 0 0 1 0 0 1 1 0 1 0 0 0 1 0 0 0 1 1 1 1 0 0 1 1 1 1 0 0\n",
            " 0 0 1 1 0 1 0 0 1 0 1 0 0 1 0 0 1 0 0 0 1 0 1 1 0 0 0 0 0 1 0 0 1 1 0 0 1\n",
            " 0 0 1 0 1 1 0 1 1 1 1 1 0 1 1 1 0 0 1 1 1 0 0 0 1 1 1 1 1 1 1 1 1 1 1 0 1\n",
            " 0 1 0 0 1 1 1 0 1 0 0 1 1 0 1 1 0 1 1 1 1 1 0 1 0 0 1 0 0 1 1 0 1 0 0 0 0\n",
            " 1 0 1 0 1 1 0 0 1 0 0 0 0 1 0 0 1 0 1 0 0 0 0 0 1 0 0 0 0 1 1 1 0 1 0 0 0\n",
            " 0 0 1 1 1 1 0 1 0 0 1 1 1 1 1 1 1 1 1 0 0 0 0 0 0 0 0 1 1 1 1 0 0 1 0 0 1\n",
            " 1 1 1 0 0 0 1 1 0 1 1 1 1 0 0 1 0 0 0 1 0 0 1 1 0 0 1 0 1 1 0 0 1 1 1 0 1\n",
            " 1 1 1 0 0 0 0 0 0 1 1 1 1 0 1 0 0 1 0 1 1 1 1 1 1 0 0 0 0 0 1 0 1 1 1 0 0\n",
            " 0 1 0 0 0 1 1 0 0 1 0 1 1 1 1 1 1 1 1 0 0 1 1 0 0 1 0 1 0 1 0 0 0 0 1 0 1\n",
            " 0 1 1 1 1 0 1 1 0 1 1 0 0 1 1 1 0 1 0 0 1 1 1 0 1 1 1 1 0 1 1 0 0 0 0 1 1\n",
            " 0 1 1 0 0 1 1 1 0 1 0 1 0 0 0 1 0 1 0 0 0 1 1 0 1 1 0 1 0 0 0 0 1 1 0 0 1\n",
            " 1 0 0 1 1 1 1 1 1 1 0 1 0 1 1 1 1 0 1 1 0 0 0 0 0 1 0 1 1 0 1 0 0 0 1 0 1\n",
            " 0 0 0 1 1 1 0 1 1 1 0 1 0 1 1 0 0 1 0 1 0 1 0 0 1 0 0 0 0 1 1 0 1 0 1 1 0\n",
            " 0 0 1 1 1 0 1 1 1 1 1 0 1 1 0 0 1 0 1 1 0 0 0 1 0 0 0 0 1 0 1 0 1 1 1 0 0\n",
            " 1 1 0 1 1 0 1 1 1 1 1 1 0 0 0 1 0 0 1 1 0 1 1 1 1 1 1 1 1 0 1 1 1 0 0 0 0\n",
            " 0 0 1 0 1 1 1 0 0 0 1 1 1 1 0 1 1 1 1 1 0 0 1 0 1 0 0 1 1 1 0 0 1 1 0 0 0\n",
            " 1 0 1 1 0 1 0 1 1 1 1 1 0 0 1 1 1 1 1 1 1 0 1 1 0 1 0 1 1 0 0 0 0 0 0 1 1\n",
            " 0 1 0 1 1 1 1 1 0 1 0 1 1 0 0 0 0 0 0 0 0 0 0 1 1 0 1 1 1 1 1 0 1 1 0 0 0\n",
            " 0 1 1 1 0 1 0 0 1 0 1 0 1 1 0 0 0 1 0 1 1 1 0 0 0 1 1 1 1 1 1 1 1 1 0 1 1\n",
            " 0 0 1 0 0 1 1 1 0 1 0 0 1 1 0 1 1 0 0 0 1 1 1 0 1 1 0 0 1 1 0 1 0 1 1 0 0\n",
            " 0 0 0 0 1 1 0 0 0 1 1 0 1 0 0 1 1 1 0 0 1 1 1 0 0 0 0 0 0 1 1 0 0 0 1 1 0\n",
            " 1]\n"
          ]
        }
      ],
      "source": [
        "#Program on Coin toss\n",
        "# Two bandit problem in below blocks\n",
        "import numpy as np\n",
        "\n",
        "# Simulation of a coin toss\n",
        "# This is also called as Bernoulli Random variable\n",
        "# We define function Bernoulli trial function\n",
        "# We need to feed the probability p\n",
        "# We study from data observed, i.e., outcomes in trials,\n",
        "# that is, count_number_ones (number of heads),\n",
        "# total number of trials\n",
        "# estimate of probability\n",
        "# law of large numbers (LLN), (look on wikipedia for more information)\n",
        "# estimate probability converges to mean (By LLN)\n",
        "# Bernouilli random variable, mean = p\n",
        "\n",
        "def bernoulli_trial(p):\n",
        "  \"\"\"\n",
        "  Simulates a single Bernoulli trial with probability of success p.\n",
        "\n",
        "  Args:\n",
        "      p: Probability of success (between 0 and 1).\n",
        "\n",
        "  Returns:\n",
        "      1 if success, 0 otherwise.\n",
        "  \"\"\"\n",
        "  # Generate a random number between 0 and 1\n",
        "  random_number = np.random.rand()\n",
        "  # Check if it's less than the probability of success (success)\n",
        "  return 1 if random_number < p else 0\n",
        "\n",
        "# Example usage: Simulate 10 Bernoulli trials with p = 0.5 (success probability)\n",
        "Total_trials = 1000\n",
        "\n",
        "p = 0.5 # if coin is fair (Probability of head)\n",
        "# p = 0.7 # if coin is biased  (Probability of head)\n",
        "# p = 0.1 # if coin is biased  (Probability of head)\n",
        "\n",
        "outcome_trials = np.array([bernoulli_trial(p) for _ in range(Total_trials)])\n",
        "# Suppose data observed is trials\n",
        "print(\"Outcomes:\",outcome_trials)\n",
        "\n"
      ]
    },
    {
      "cell_type": "code",
      "source": [
        "# suppose that we have given data on outcomes in trials\n",
        "# from the data how to estimate the probability (law of large numbers)\n",
        "\n",
        "\n",
        "count_head = sum(outcome_trials)\n",
        "print(\"Number of head in trials (number of ones):\", count_head)\n",
        "print(\"Total number of trials:\",Total_trials)\n",
        "estimate_probability = count_head/Total_trials\n",
        "print(\"Estimate_probability\", estimate_probability)\n",
        "print(\"Error:=\", abs(estimate_probability -p))\n"
      ],
      "metadata": {
        "colab": {
          "base_uri": "https://localhost:8080/"
        },
        "id": "fWj4jg7apTE9",
        "outputId": "de00cda2-0693-4694-eefe-44f604aeb28f"
      },
      "execution_count": null,
      "outputs": [
        {
          "output_type": "stream",
          "name": "stdout",
          "text": [
            "Number of head in trials (number of ones): 517\n",
            "Total number of trials: 1000\n",
            "Estimate_probability 0.517\n",
            "Error:= 0.017000000000000015\n"
          ]
        }
      ]
    },
    {
      "cell_type": "markdown",
      "source": [
        "Two Armed Bandit problems"
      ],
      "metadata": {
        "id": "Ay5n4FGsqunM"
      }
    },
    {
      "cell_type": "code",
      "source": [
        "# Two armed bandit problem\n",
        "\n",
        "# In the following program we study multi-armed bandit (2 armed bandit)\n",
        "# one can think of suppose that there are two lottery companies\n",
        "# suppose that we do not know probability of success\n",
        "# How do we determine how to play the arm so that we can quickly determine\n",
        "# which of the arm is best\n",
        "\n",
        "\n",
        "import random\n",
        "\n",
        "\n",
        "class Bandit:\n",
        "  \"\"\"\n",
        "  Represents a single bandit arm with its average reward and number of pulls.\n",
        "  \"\"\"\n",
        "  def __init__(self, true_mean):\n",
        "    self.true_mean = true_mean  # Actual average reward\n",
        "    self.estimated_mean = 0.0  # Estimated average reward based on pulls\n",
        "    self.num_pulls = 0          # Number of times this arm has been pulled\n",
        "\n",
        "\n",
        "  def pull(self):\n",
        "    \"\"\"\n",
        "    Simulates pulling the arm and returns the reward. (it means it runs a trial of each event and gets the results)\n",
        "    \"\"\"\n",
        "    reward = random.gauss(self.true_mean, 1.0)  # Simulate reward with some variance, it takes real mean into consideration\n",
        "    self.num_pulls += 1\n",
        "    self.estimated_mean = (self.estimated_mean * (self.num_pulls - 1) + reward) / self.num_pulls\n",
        "    return reward\n",
        "\n",
        "\n",
        "\n",
        "\n",
        "\n"
      ],
      "metadata": {
        "id": "flSoQrSgq1AD"
      },
      "execution_count": null,
      "outputs": []
    },
    {
      "cell_type": "code",
      "source": [
        "def epsilon_greedy(bandit1, bandit2, epsilon):\n",
        "  \"\"\"\n",
        "  Implements the Epsilon-Greedy algorithm to choose a bandit arm.\n",
        "\n",
        "\n",
        "  Args:\n",
        "      bandit1: Bandit object representing the first arm.\n",
        "      bandit2: Bandit object representing the second arm.\n",
        "      epsilon: Exploration rate (0 <= epsilon <= 1).\n",
        "\n",
        "\n",
        "  Returns:\n",
        "      The chosen bandit object (either bandit1 or bandit2).\n",
        "  \"\"\"\n",
        "  if random.random() < epsilon:\n",
        "    # Explore: Choose a random arm\n",
        "    return random.choice([bandit1, bandit2])\n",
        "  else:\n",
        "    # Exploit: Choose the arm with the highest estimated average reward\n",
        "    if bandit1.estimated_mean > bandit2.estimated_mean:\n",
        "      return bandit1\n",
        "    else:\n",
        "      return bandit2"
      ],
      "metadata": {
        "id": "k7cdt0zKq6tY"
      },
      "execution_count": null,
      "outputs": []
    },
    {
      "cell_type": "code",
      "source": [
        "def run_simulation(num_rounds, epsilon):\n",
        "  \"\"\"\n",
        "  Runs a simulation of the two-armed bandit problem.\n",
        "\n",
        "\n",
        "  Args:\n",
        "      num_rounds: Number of rounds to simulate.\n",
        "      epsilon: Exploration rate (0 <= epsilon <= 1).\n",
        "\n",
        "\n",
        "  Returns:\n",
        "      A tuple containing the total reward earned and the number of times each arm was pulled.\n",
        "  \"\"\"\n",
        "  bandit1 = Bandit(true_mean=0.7)  # True average reward for arm 1\n",
        "  bandit2 = Bandit(true_mean=0.5)  # True average reward for arm 2\n",
        "  total_reward = 0\n",
        "  for _ in range(num_rounds):\n",
        "    chosen_bandit = epsilon_greedy(bandit1, bandit2, epsilon)\n",
        "    reward = chosen_bandit.pull()\n",
        "    total_reward += reward\n",
        "  return total_reward, bandit1.num_pulls, bandit2.num_pulls\n",
        "\n",
        "\n",
        "# Example usage\n",
        "num_rounds = 1000\n",
        "epsilon = 0.1\n",
        "total_reward, pulls_bandit1, pulls_bandit2 = run_simulation(num_rounds, epsilon)\n",
        "\n",
        "\n",
        "print(f\"Total reward earned: {total_reward:.2f}\")\n",
        "print(f\"Number of times bandit 1 pulled: {pulls_bandit1}\")\n",
        "print(f\"Number of times bandit 2 pulled: {pulls_bandit2}\")\n",
        "\n"
      ],
      "metadata": {
        "colab": {
          "base_uri": "https://localhost:8080/"
        },
        "id": "Nw_2PryQq9ZK",
        "outputId": "a2f1b48a-06f5-4bdb-d6c5-bc9dd8e87d25"
      },
      "execution_count": null,
      "outputs": [
        {
          "output_type": "stream",
          "name": "stdout",
          "text": [
            "Total reward earned: 574.99\n",
            "Number of times bandit 1 pulled: 259\n",
            "Number of times bandit 2 pulled: 741\n"
          ]
        }
      ]
    },
    {
      "cell_type": "markdown",
      "source": [
        "Upper Confidence Bound Algorithm for two bandit problem"
      ],
      "metadata": {
        "id": "747VwLyU0Yot"
      }
    },
    {
      "cell_type": "code",
      "source": [
        "# UCB Algorithm based code\n",
        "import random\n",
        "import math\n",
        "\n",
        "\n",
        "class Bandit:\n",
        "  \"\"\"\n",
        "  Represents a single bandit arm with its average reward and number of pulls.\n",
        "  \"\"\"\n",
        "  def __init__(self, true_mean):\n",
        "    self.true_mean = true_mean  # Actual average reward\n",
        "    self.estimated_mean = 0.0  # Estimated average reward based on pulls\n",
        "    self.num_pulls = 0          # Number of times this arm has been pulled\n",
        "\n",
        "\n",
        "  def pull(self):\n",
        "    \"\"\"\n",
        "    Simulates pulling the arm and returns the reward.\n",
        "    \"\"\"\n",
        "    reward = random.gauss(self.true_mean, 1.0)  # Simulate reward with some variance\n",
        "    self.num_pulls += 1\n",
        "    self.estimated_mean = (self.estimated_mean * (self.num_pulls - 1) + reward) / self.num_pulls\n",
        "    return reward\n",
        "\n",
        "\n",
        "def ucb(bandit1, bandit2, total_pulls):\n",
        "  \"\"\"\n",
        "  Implements the UCB algorithm to choose a bandit arm.\n",
        "\n",
        "\n",
        "  Args:\n",
        "      bandit1: Bandit object representing the first arm.\n",
        "      bandit2: Bandit object representing the second arm.\n",
        "      total_pulls: Total number of pulls across both arms.\n",
        "\n",
        "\n",
        "  Returns:\n",
        "      The chosen bandit object (either bandit1 or bandit2).\n",
        "  \"\"\"\n",
        "  if bandit1.num_pulls == 0 or bandit2.num_pulls == 0:\n",
        "    # Explore initially: Choose the arm that hasn't been pulled yet\n",
        "    return bandit1 if bandit1.num_pulls == 0 else bandit2\n",
        "  else:\n",
        "    # Exploit with upper confidence bound\n",
        "    ucb_value1 = bandit1.estimated_mean + math.sqrt(2 * math.log(total_pulls) / bandit1.num_pulls)\n",
        "    ucb_value2 = bandit2.estimated_mean + math.sqrt(2 * math.log(total_pulls) / bandit2.num_pulls)\n",
        "    if ucb_value1 > ucb_value2:\n",
        "      return bandit1\n",
        "    else:\n",
        "      return bandit2\n",
        "\n",
        "\n",
        "def run_simulation(num_rounds):\n",
        "  \"\"\"\n",
        "  Runs a simulation of the two-armed bandit problem.\n",
        "\n",
        "\n",
        "  Args:\n",
        "      num_rounds: Number of rounds to simulate.\n",
        "\n",
        "\n",
        "  Returns:\n",
        "      A tuple containing the total reward earned and the number of times each arm was pulled.\n",
        "  \"\"\"\n",
        "  bandit1 = Bandit(true_mean=0.7)  # True average reward for arm 1\n",
        "  bandit2 = Bandit(true_mean=0.5)  # True average reward for arm 2\n",
        "  total_reward = 0\n",
        "  total_pulls = 0\n",
        "  for _ in range(num_rounds):\n",
        "    chosen_bandit = ucb(bandit1, bandit2, total_pulls)\n",
        "    reward = chosen_bandit.pull()\n",
        "    total_reward += reward\n",
        "    total_pulls += 1\n",
        "  return total_reward, bandit1.num_pulls, bandit2.num_pulls\n",
        "\n",
        "\n",
        "# Example usage\n",
        "num_rounds = 1000\n",
        "total_reward, pulls_bandit1, pulls_bandit2 = run_simulation(num_rounds)\n",
        "\n",
        "\n",
        "print(f\"Total reward earned: {total_reward:.2f}\")\n",
        "print(f\"Number of times bandit 1 pulled: {pulls_bandit1}\")\n",
        "print(f\"Number of times bandit 2 pulled: {pulls_bandit2}\")\n"
      ],
      "metadata": {
        "colab": {
          "base_uri": "https://localhost:8080/"
        },
        "id": "YKHWm9fj0ifA",
        "outputId": "ef9b8edd-f405-40a1-89b3-46e27c7293a2"
      },
      "execution_count": null,
      "outputs": [
        {
          "output_type": "stream",
          "name": "stdout",
          "text": [
            "Total reward earned: 643.66\n",
            "Number of times bandit 1 pulled: 864\n",
            "Number of times bandit 2 pulled: 136\n"
          ]
        }
      ]
    },
    {
      "cell_type": "markdown",
      "source": [
        "Explore then Exploit Algorithm"
      ],
      "metadata": {
        "id": "lhNjo-xW0u4Z"
      }
    },
    {
      "cell_type": "code",
      "source": [
        "# Explore then Commit\n",
        "\n",
        "# Explore then exploit algorithm\n",
        "\n",
        "\n",
        "import random\n",
        "\n",
        "\n",
        "class Bandit:\n",
        "  \"\"\"\n",
        "  Represents a single bandit arm with its average reward and number of pulls.\n",
        "  \"\"\"\n",
        "  def __init__(self):\n",
        "    self.rewards = []  # List to store rewards received\n",
        "\n",
        "\n",
        "  def pull(self):\n",
        "    \"\"\"\n",
        "    Simulates pulling the arm and returns the reward.\n",
        "    \"\"\"\n",
        "    reward = random.random()  # Simulate reward between 0 and 1\n",
        "    self.rewards.append(reward)\n",
        "    return reward\n",
        "\n",
        "\n",
        "def explore_then_commit(bandit1, bandit2, exploration_rounds):\n",
        "  \"\"\"\n",
        "  Implements the Explore-then-Commit algorithm.\n",
        "\n",
        "\n",
        "  Args:\n",
        "      bandit1: Bandit object representing the first arm.\n",
        "      bandit2: Bandit object representing the second arm.\n",
        "      exploration_rounds: Number of rounds allocated for exploration.\n",
        "\n",
        "\n",
        "  Returns:\n",
        "      The bandit object with the highest average reward after exploration.\n",
        "  \"\"\"\n",
        "  for _ in range(exploration_rounds):\n",
        "    reward1 = bandit1.pull()\n",
        "    reward2 = bandit2.pull()\n",
        "\n",
        "\n",
        "  # Exploit based on average reward after exploration\n",
        "  avg_reward1 = sum(bandit1.rewards) / exploration_rounds\n",
        "  avg_reward2 = sum(bandit2.rewards) / exploration_rounds\n",
        "  if avg_reward1 > avg_reward2:\n",
        "    return bandit1\n",
        "  else:\n",
        "    return bandit2\n",
        "\n",
        "\n",
        "def run_simulation(num_rounds, exploration_rounds):\n",
        "  \"\"\"\n",
        "  Runs a simulation of the two-armed bandit problem with ETC.\n",
        "\n",
        "\n",
        "  Args:\n",
        "      num_rounds: Number of total rounds to simulate.\n",
        "      exploration_rounds: Number of rounds allocated for exploration.\n",
        "\n",
        "\n",
        "  Returns:\n",
        "      A tuple containing the total reward earned and the chosen bandit object.\n",
        "  \"\"\"\n",
        "  bandit1 = Bandit()\n",
        "  bandit2 = Bandit()\n",
        "  total_reward = 0\n",
        "  chosen_bandit = explore_then_commit(bandit1, bandit2, exploration_rounds)\n",
        "  for _ in range(num_rounds):\n",
        "    reward = chosen_bandit.pull()\n",
        "    total_reward += reward\n",
        "  return total_reward, chosen_bandit\n",
        "\n",
        "\n",
        "# Example usage\n",
        "num_rounds = 1000\n",
        "exploration_rounds = 100\n",
        "total_reward, chosen_bandit = run_simulation(num_rounds, exploration_rounds)\n",
        "\n",
        "\n",
        "print(f\"Total reward earned: {total_reward:.2f}\")\n",
        "print(f\"Chosen bandit: {chosen_bandit.__class__.__name__}\")  # Print class name (Bandit1 or Bandit2)\n",
        "\n",
        "\n",
        "\n"
      ],
      "metadata": {
        "colab": {
          "base_uri": "https://localhost:8080/"
        },
        "id": "sr13iL410oTh",
        "outputId": "f8e8e238-40e4-4019-aa85-c2b02e1743d0"
      },
      "execution_count": null,
      "outputs": [
        {
          "output_type": "stream",
          "name": "stdout",
          "text": [
            "Total reward earned: 497.04\n",
            "Chosen bandit: Bandit\n"
          ]
        }
      ]
    }
  ]
}